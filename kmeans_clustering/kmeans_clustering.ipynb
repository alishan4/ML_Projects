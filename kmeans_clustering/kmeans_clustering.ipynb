{
 "cells": [
  {
   "cell_type": "code",
   "execution_count": 5,
   "id": "8166dcd4-4e64-42af-998f-13bf57c4e724",
   "metadata": {},
   "outputs": [
    {
     "ename": "IndentationError",
     "evalue": "unexpected indent (1095239169.py, line 2)",
     "output_type": "error",
     "traceback": [
      "\u001b[1;36m  Cell \u001b[1;32mIn[5], line 2\u001b[1;36m\u001b[0m\n\u001b[1;33m    import pandas as pd\u001b[0m\n\u001b[1;37m    ^\u001b[0m\n\u001b[1;31mIndentationError\u001b[0m\u001b[1;31m:\u001b[0m unexpected indent\n"
     ]
    }
   ],
   "source": [
    "import numpy as np\n",
    "   import pandas as pd\n",
    "   from sklearn.datasets import load_iris\n",
    "   from sklearn.preprocessing import StandardScaler\n",
    "   from sklearn.decomposition import PCA\n",
    "   from sklearn.cluster import KMeans\n",
    "   from sklearn.metrics import silhouette_score\n",
    "   import matplotlib.pyplot as plt\n",
    "   import seaborn as sns\n",
    "\n",
    "   # Load Iris dataset (binary, like Day 6)\n",
    "   iris = load_iris()\n",
    "   X = iris.data[iris.target != 2]  # Classes 0, 1\n",
    "   y = iris.target[iris.target != 2]\n",
    "\n",
    "   # Preprocess (like PHP/MyAdmin)\n",
    "   scaler = StandardScaler()\n",
    "   X_scaled = scaler.fit_transform(X)\n",
    "\n",
    "   # PCA (Day 6)\n",
    "   pca = PCA(n_components=2)\n",
    "   X_pca = pca.fit_transform(X_scaled)\n",
    "   print(f\"Explained Variance Ratio: {pca.explained_variance_ratio_}\")\n",
    "\n",
    "   # K-Means Clustering\n",
    "   kmeans = KMeans(n_clusters=2, random_state=42)\n",
    "   clusters = kmeans.fit_predict(X_pca)\n",
    "   score = silhouette_score(X_pca, clusters)\n",
    "   print(f\"Silhouette Score: {score:.2f}\")\n",
    "\n",
    "   # Visualize Clusters\n",
    "   plt.figure(figsize=(8, 6))\n",
    "   sns.scatterplot(x=X_pca[:, 0], y=X_pca[:, 1], hue=clusters, palette='viridis')\n",
    "   plt.scatter(kmeans.cluster_centers_[:, 0], kmeans.cluster_centers_[:, 1], c='red', marker='x', s=200, label='Centroids')\n",
    "   plt.title('K-Means Clusters (PCA Features)')\n",
    "   plt.xlabel('PC1')\n",
    "   plt.ylabel('PC2')\n",
    "   plt.legend()\n",
    "   plt.show()\n",
    "\n",
    "   # Elbow Method (pick K)\n",
    "   inertias = []\n",
    "   for k in range(1, 5):\n",
    "       kmeans = KMeans(n_clusters=k, random_state=42)\n",
    "       kmeans.fit(X_pca)\n",
    "       inertias.append(kmeans.inertia_)\n",
    "   plt.figure(figsize=(8, 6))\n",
    "   plt.plot(range(1, 5), inertias, marker='o')\n",
    "   plt.title('Elbow Method for K')\n",
    "   plt.xlabel('Number of Clusters (K)')\n",
    "   plt.ylabel('Inertia')\n",
    "   plt.show()"
   ]
  },
  {
   "cell_type": "code",
   "execution_count": null,
   "id": "d3041662-e9d5-4520-a928-cd968d3a1da2",
   "metadata": {},
   "outputs": [],
   "source": []
  }
 ],
 "metadata": {
  "kernelspec": {
   "display_name": "Python 3 (ipykernel)",
   "language": "python",
   "name": "python3"
  },
  "language_info": {
   "codemirror_mode": {
    "name": "ipython",
    "version": 3
   },
   "file_extension": ".py",
   "mimetype": "text/x-python",
   "name": "python",
   "nbconvert_exporter": "python",
   "pygments_lexer": "ipython3",
   "version": "3.10.13"
  }
 },
 "nbformat": 4,
 "nbformat_minor": 5
}
