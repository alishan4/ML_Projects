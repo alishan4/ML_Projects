{
 "cells": [
  {
   "cell_type": "code",
   "execution_count": 1,
   "id": "7be82546-bf98-45d4-97cc-5876f647d12a",
   "metadata": {},
   "outputs": [
    {
     "name": "stdout",
     "output_type": "stream",
     "text": [
      "Player Runs: [100 150 200  50]\n",
      "Player Wickets: [2 5 3 1]\n",
      "Dot Product (Runs * Wickets): 1600\n",
      "Vector Sum (Runs + Wickets): [102 155 203  51]\n",
      "Norm of Runs: 273.8612787525831\n"
     ]
    }
   ],
   "source": [
    "import numpy as np\n",
    "\n",
    "# Synthetic player data (like PHP/MyAdmin table: player_id, runs, wickets)\n",
    "player_runs = np.array([100, 150, 200, 50])  # Runs scored\n",
    "player_wickets = np.array([2, 5, 3, 1])     # Wickets taken\n",
    "\n",
    "# Vector operations\n",
    "dot_product = np.dot(player_runs, player_wickets)  # Simulates feature interaction\n",
    "vector_sum = player_runs + player_wickets         # Combines stats\n",
    "norm_runs = np.linalg.norm(player_runs)          # Vector magnitude (like data scaling)\n",
    "\n",
    "# Print results\n",
    "print(f\"Player Runs: {player_runs}\")\n",
    "print(f\"Player Wickets: {player_wickets}\")\n",
    "print(f\"Dot Product (Runs * Wickets): {dot_product}\")\n",
    "print(f\"Vector Sum (Runs + Wickets): {vector_sum}\")\n",
    "print(f\"Norm of Runs: {norm_runs}\")\n",
    "\n",
    "# Save as Jupyter Notebook (optional)\n",
    "# In Jupyter: File > Download as > .ipynb"
   ]
  },
  {
   "cell_type": "code",
   "execution_count": null,
   "id": "f6eaaa1d-f55b-4e5e-8131-a74c394c85c1",
   "metadata": {},
   "outputs": [],
   "source": []
  }
 ],
 "metadata": {
  "kernelspec": {
   "display_name": "Python 3 (ipykernel)",
   "language": "python",
   "name": "python3"
  },
  "language_info": {
   "codemirror_mode": {
    "name": "ipython",
    "version": 3
   },
   "file_extension": ".py",
   "mimetype": "text/x-python",
   "name": "python",
   "nbconvert_exporter": "python",
   "pygments_lexer": "ipython3",
   "version": "3.10.13"
  }
 },
 "nbformat": 4,
 "nbformat_minor": 5
}
